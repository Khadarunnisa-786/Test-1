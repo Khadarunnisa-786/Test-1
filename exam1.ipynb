{
 "cells": [
  {
   "cell_type": "markdown",
   "id": "74a4d4e1-a105-4f04-ae58-e48447cb28fb",
   "metadata": {},
   "source": [
    " write a python function to check if a number is prime"
   ]
  },
  {
   "cell_type": "code",
   "execution_count": 39,
   "id": "e34bd68a-da72-41ce-b9f6-f0d81bc4bc9a",
   "metadata": {},
   "outputs": [
    {
     "name": "stdin",
     "output_type": "stream",
     "text": [
      "please enter a value 7\n"
     ]
    },
    {
     "name": "stdout",
     "output_type": "stream",
     "text": [
      "number is prime\n"
     ]
    }
   ],
   "source": [
    "n = int(input(\"please enter a value\"))\n",
    "c = 0\n",
    "for i in range(1 , n+1):\n",
    "    if n % i== 0:\n",
    "        c= c+1\n",
    "if c==2 :\n",
    "    print(\"number is prime\")\n",
    "else:\n",
    "    print('number is not prime')"
   ]
  },
  {
   "cell_type": "markdown",
   "id": "b55859b2-8e61-451d-ada1-c1542d9a8210",
   "metadata": {},
   "source": [
    " write a python function that returns the sum of elements in a list"
   ]
  },
  {
   "cell_type": "code",
   "execution_count": 1,
   "id": "2a7d10bc-15e8-4059-8f15-0ee660212261",
   "metadata": {},
   "outputs": [],
   "source": [
    "l = [1,2,3,4,5]\n"
   ]
  },
  {
   "cell_type": "code",
   "execution_count": 2,
   "id": "4dbe0d99-2db9-4c05-b062-24d91f07dbcc",
   "metadata": {},
   "outputs": [],
   "source": [
    "def test(l):\n",
    "    return sum(l)"
   ]
  },
  {
   "cell_type": "code",
   "execution_count": 3,
   "id": "8f0694b8-ceb4-468a-a01b-3ccec2da6e59",
   "metadata": {},
   "outputs": [
    {
     "data": {
      "text/plain": [
       "15"
      ]
     },
     "execution_count": 3,
     "metadata": {},
     "output_type": "execute_result"
    }
   ],
   "source": [
    "test(l)"
   ]
  },
  {
   "cell_type": "markdown",
   "id": "ccbe6800-18cd-48b6-9cc5-5034cdacb417",
   "metadata": {},
   "source": [
    "write a python program to read a file and count the occurrence of a specific word"
   ]
  },
  {
   "cell_type": "code",
   "execution_count": 44,
   "id": "b2b814da-4d19-4984-a11f-b19dbc7e4c4f",
   "metadata": {},
   "outputs": [
    {
     "data": {
      "text/plain": [
       "1"
      ]
     },
     "execution_count": 44,
     "metadata": {},
     "output_type": "execute_result"
    }
   ],
   "source": [
    "s = 'datascience'\n",
    "s.count(s)"
   ]
  },
  {
   "cell_type": "markdown",
   "id": "bc536873-f0f5-4ec2-a4ed-c9069f607a5b",
   "metadata": {},
   "source": [
    "write a program to calculate the sum of elements in a list using list comprehension"
   ]
  },
  {
   "cell_type": "code",
   "execution_count": 14,
   "id": "ccbab43a-53b7-4a0c-91c8-3c23f8c51a46",
   "metadata": {},
   "outputs": [
    {
     "ename": "SyntaxError",
     "evalue": "cannot assign to literal here. Maybe you meant '==' instead of '='? (3115905672.py, line 1)",
     "output_type": "error",
     "traceback": [
      "\u001b[1;36m  Cell \u001b[1;32mIn[14], line 1\u001b[1;36m\u001b[0m\n\u001b[1;33m    1 = [1,2,3,4,5,6,7]\u001b[0m\n\u001b[1;37m    ^\u001b[0m\n\u001b[1;31mSyntaxError\u001b[0m\u001b[1;31m:\u001b[0m cannot assign to literal here. Maybe you meant '==' instead of '='?\n"
     ]
    }
   ],
   "source": [
    "1 = [1,2,3,4,5,6,7]\n",
    "sum( i for i in l if type(i)==int)\n"
   ]
  },
  {
   "cell_type": "markdown",
   "id": "5a40c3d9-60c4-475a-9abb-70402d7fa4b4",
   "metadata": {},
   "source": [
    " write a program to count the number of words in a string"
   ]
  },
  {
   "cell_type": "code",
   "execution_count": 2,
   "id": "3c9773a4-cca2-4a1c-a6a4-5335a1577838",
   "metadata": {},
   "outputs": [
    {
     "data": {
      "text/plain": [
       "11"
      ]
     },
     "execution_count": 2,
     "metadata": {},
     "output_type": "execute_result"
    }
   ],
   "source": [
    "s = 'datascience'\n",
    "len(s)"
   ]
  },
  {
   "cell_type": "markdown",
   "id": "75f34471-58fd-4789-8b8d-b5040f5baba8",
   "metadata": {},
   "source": [
    "write a python program using a lambda function to find the sqare of a number"
   ]
  },
  {
   "cell_type": "code",
   "execution_count": 6,
   "id": "fcbb91bb-86db-4347-ac2b-04e5ece6abf1",
   "metadata": {},
   "outputs": [
    {
     "name": "stdin",
     "output_type": "stream",
     "text": [
      "pls enter a value 5\n"
     ]
    },
    {
     "data": {
      "text/plain": [
       "[25]"
      ]
     },
     "execution_count": 6,
     "metadata": {},
     "output_type": "execute_result"
    }
   ],
   "source": [
    "a= int(input('pls enter a value'))\n",
    "[ a*a ]  "
   ]
  },
  {
   "cell_type": "markdown",
   "id": "cb801d96-b2f7-4928-82c7-8672b6e8cf31",
   "metadata": {},
   "source": [
    "write a python program to handle division by zero using try_except"
   ]
  },
  {
   "cell_type": "code",
   "execution_count": 15,
   "id": "3b1357e5-5f2c-4904-b7cc-787067032820",
   "metadata": {},
   "outputs": [
    {
     "name": "stdin",
     "output_type": "stream",
     "text": [
      "pls enter 1st value 6\n",
      "pls enter 2nd value 0\n"
     ]
    },
    {
     "name": "stdout",
     "output_type": "stream",
     "text": [
      "b should not b zero\n"
     ]
    }
   ],
   "source": [
    "a = int(input('pls enter 1st value'))\n",
    "b= int(input('pls enter 2nd value'))\n",
    "try:\n",
    "   c = a/b\n",
    "   print(c)\n",
    "except ZeroDivisionError:\n",
    "     print('b should not b zero')"
   ]
  },
  {
   "cell_type": "markdown",
   "id": "c752fef7-51d2-4bb3-88cd-80ed78228afb",
   "metadata": {},
   "source": [
    "write a  python function that takes two numbers as arguments and return their sum"
   ]
  },
  {
   "cell_type": "code",
   "execution_count": 4,
   "id": "2ee7eca5-9f06-4ed1-a92a-5970cea606a2",
   "metadata": {},
   "outputs": [
    {
     "data": {
      "text/plain": [
       "10"
      ]
     },
     "execution_count": 4,
     "metadata": {},
     "output_type": "execute_result"
    }
   ],
   "source": [
    "a = 4\n",
    "b = 6\n",
    "a+b"
   ]
  },
  {
   "cell_type": "markdown",
   "id": "a28ca9dd-6c8c-4283-b58c-5c81c1e52003",
   "metadata": {},
   "source": [
    "write a function to check wheather a guven number is even or odd"
   ]
  },
  {
   "cell_type": "code",
   "execution_count": 23,
   "id": "8968460e-48bf-4df8-aeba-5bc95d8ecc4a",
   "metadata": {},
   "outputs": [
    {
     "name": "stdin",
     "output_type": "stream",
     "text": [
      "please enter a value 8\n"
     ]
    },
    {
     "name": "stdout",
     "output_type": "stream",
     "text": [
      "even\n"
     ]
    }
   ],
   "source": [
    "  a = int(input('please enter a value'))\n",
    "  if a%2==0 :\n",
    "    print('even')\n",
    "  else:\n",
    "    print('odd')"
   ]
  },
  {
   "cell_type": "markdown",
   "id": "d0aabf63-37c2-4521-9788-ac130f395231",
   "metadata": {},
   "source": [
    "write a function thar takes a number as inout abd returns the square of that number"
   ]
  },
  {
   "cell_type": "code",
   "execution_count": 24,
   "id": "b8ae9b94-1c46-4212-a451-f24a2dc4bb91",
   "metadata": {},
   "outputs": [],
   "source": [
    "def test() :\n",
    "  a = 20\n",
    "  return a*a"
   ]
  },
  {
   "cell_type": "code",
   "execution_count": 25,
   "id": "aa92f6a6-e6e5-4aab-95fd-6d5ebdd3cb58",
   "metadata": {},
   "outputs": [
    {
     "data": {
      "text/plain": [
       "400"
      ]
     },
     "execution_count": 25,
     "metadata": {},
     "output_type": "execute_result"
    }
   ],
   "source": [
    "test()"
   ]
  },
  {
   "cell_type": "markdown",
   "id": "ee9c752e-d4c4-426f-a803-d54d2458c2bf",
   "metadata": {},
   "source": [
    "write a function that takes a list of numbers and return a new list containing only the even numbers"
   ]
  },
  {
   "cell_type": "code",
   "execution_count": 26,
   "id": "7e3f0f71-d71e-42d9-8797-cf7059dbcfbb",
   "metadata": {},
   "outputs": [],
   "source": [
    "l = [1,2,3,4,5,6,7,8,9,0]"
   ]
  },
  {
   "cell_type": "code",
   "execution_count": 27,
   "id": "52e3b452-b59a-44c1-89d6-74b2c17292b9",
   "metadata": {},
   "outputs": [
    {
     "data": {
      "text/plain": [
       "[1, 2, 3, 4, 5, 6, 7, 8, 9, 0]"
      ]
     },
     "execution_count": 27,
     "metadata": {},
     "output_type": "execute_result"
    }
   ],
   "source": [
    "l"
   ]
  },
  {
   "cell_type": "code",
   "execution_count": 47,
   "id": "664126a9-7d6d-4af9-b722-203c38df7915",
   "metadata": {},
   "outputs": [
    {
     "name": "stdout",
     "output_type": "stream",
     "text": [
      "[2, 4, 6, 8, 0]\n"
     ]
    }
   ],
   "source": [
    "\n",
    "    l1= []\n",
    "    for i in l :\n",
    "        if i % 2 == 0:\n",
    "         l1.append(i)\n",
    "    print (l1)"
   ]
  },
  {
   "cell_type": "markdown",
   "id": "236d8de5-744c-4d96-a3a3-ed9a746e1540",
   "metadata": {},
   "source": [
    "write a function that takea a string and returns the reversed string"
   ]
  },
  {
   "cell_type": "code",
   "execution_count": 1,
   "id": "4ad2a15c-1d31-48c1-a6ab-d215a981c309",
   "metadata": {},
   "outputs": [],
   "source": [
    "s = 'datascience'"
   ]
  },
  {
   "cell_type": "code",
   "execution_count": 2,
   "id": "d7c923fe-bf98-4fce-977a-45d85ad0f605",
   "metadata": {},
   "outputs": [
    {
     "data": {
      "text/plain": [
       "'datascience'"
      ]
     },
     "execution_count": 2,
     "metadata": {},
     "output_type": "execute_result"
    }
   ],
   "source": [
    "s"
   ]
  },
  {
   "cell_type": "code",
   "execution_count": 5,
   "id": "64717adc-a49c-476d-adab-192b47bd581c",
   "metadata": {},
   "outputs": [],
   "source": [
    "def test(s) :\n",
    "   return s[::-1]"
   ]
  },
  {
   "cell_type": "code",
   "execution_count": 6,
   "id": "05616b43-583d-409b-94c1-cfb3edfa88c8",
   "metadata": {},
   "outputs": [
    {
     "data": {
      "text/plain": [
       "'ecneicsatad'"
      ]
     },
     "execution_count": 6,
     "metadata": {},
     "output_type": "execute_result"
    }
   ],
   "source": [
    "test(s)"
   ]
  },
  {
   "cell_type": "markdown",
   "id": "4d1101be-b629-43dd-9b96-135ccada97a8",
   "metadata": {},
   "source": [
    "write a function that takes two strings ans concatenates them"
   ]
  },
  {
   "cell_type": "code",
   "execution_count": 9,
   "id": "b98499b7-2c10-48fe-9f67-b1216336781a",
   "metadata": {},
   "outputs": [],
   "source": [
    "def test() :\n",
    "  s1 = 'aimnxt'\n",
    "  s2 = 'datascience'\n",
    "  return  s1 +s2"
   ]
  },
  {
   "cell_type": "code",
   "execution_count": 10,
   "id": "4206838a-26d5-4a92-9194-06c407b70a68",
   "metadata": {},
   "outputs": [
    {
     "data": {
      "text/plain": [
       "'aimnxtdatascience'"
      ]
     },
     "execution_count": 10,
     "metadata": {},
     "output_type": "execute_result"
    }
   ],
   "source": [
    "test()"
   ]
  },
  {
   "cell_type": "markdown",
   "id": "660c9dcf-30eb-4fe1-868e-5548dd2ca708",
   "metadata": {},
   "source": [
    "write a function that takes a string and returns both its uppercase and lowercase versions"
   ]
  },
  {
   "cell_type": "code",
   "execution_count": 51,
   "id": "28c76bee-9c4c-4794-a6b3-ce01ec9ee52d",
   "metadata": {},
   "outputs": [],
   "source": [
    "s = 'aiMnxt'"
   ]
  },
  {
   "cell_type": "code",
   "execution_count": 52,
   "id": "1c9c86f8-3bf4-4376-9302-953c3032c6eb",
   "metadata": {},
   "outputs": [
    {
     "data": {
      "text/plain": [
       "'AIMNXT'"
      ]
     },
     "execution_count": 52,
     "metadata": {},
     "output_type": "execute_result"
    }
   ],
   "source": [
    "  s.upper()"
   ]
  },
  {
   "cell_type": "code",
   "execution_count": 49,
   "id": "c0878a7e-7b7f-4fe7-aacb-768f77f694b2",
   "metadata": {},
   "outputs": [],
   "source": [
    "test2()"
   ]
  },
  {
   "cell_type": "code",
   "execution_count": 17,
   "id": "0cf877eb-9b27-441c-933f-bec4391ecf06",
   "metadata": {},
   "outputs": [
    {
     "data": {
      "text/plain": [
       "'aimnxt'"
      ]
     },
     "execution_count": 17,
     "metadata": {},
     "output_type": "execute_result"
    }
   ],
   "source": [
    "ts.lower()"
   ]
  },
  {
   "cell_type": "markdown",
   "id": "5d34b2eb-b41e-4dc3-acb0-69276cf90416",
   "metadata": {},
   "source": [
    "write a python program to print all odd numbers from 1 to 50 using a for loop and if statement"
   ]
  },
  {
   "cell_type": "code",
   "execution_count": 45,
   "id": "04810862-41a8-4456-b0ff-119be54f2b2a",
   "metadata": {},
   "outputs": [
    {
     "name": "stdout",
     "output_type": "stream",
     "text": [
      "1\n",
      "3\n",
      "5\n",
      "7\n",
      "9\n",
      "11\n",
      "13\n",
      "15\n",
      "17\n",
      "19\n",
      "21\n",
      "23\n",
      "25\n",
      "27\n",
      "29\n",
      "31\n",
      "33\n",
      "35\n",
      "37\n",
      "39\n",
      "41\n",
      "43\n",
      "45\n",
      "47\n",
      "49\n"
     ]
    }
   ],
   "source": [
    "for i in range(1, 51):\n",
    "    if i % 2 != 0:\n",
    "        print(i)"
   ]
  },
  {
   "cell_type": "markdown",
   "id": "112888cc-4498-49fe-9ffc-a8530040e488",
   "metadata": {},
   "source": [
    "write a python program to print all numbers divisible by both 3 and 5 between 1 and 100"
   ]
  },
  {
   "cell_type": "code",
   "execution_count": 53,
   "id": "3b36fd51-13ae-4347-a1c5-cee0cda6f16a",
   "metadata": {},
   "outputs": [
    {
     "name": "stdout",
     "output_type": "stream",
     "text": [
      "15\n",
      "30\n",
      "45\n",
      "60\n",
      "75\n",
      "90\n"
     ]
    }
   ],
   "source": [
    "for i in range(1, 100):\n",
    "    if i % 3 == 0 and i % 5 ==0 :\n",
    "        print(i)"
   ]
  },
  {
   "cell_type": "markdown",
   "id": "8253d541-6eb4-4385-93d1-ea56d8bd96c3",
   "metadata": {},
   "source": [
    "write a function to find the maximum of three numbers"
   ]
  },
  {
   "cell_type": "code",
   "execution_count": 54,
   "id": "683e0eb1-9240-479c-9816-274b0f518dab",
   "metadata": {},
   "outputs": [],
   "source": [
    "l = [1,2,3]"
   ]
  },
  {
   "cell_type": "code",
   "execution_count": 55,
   "id": "6303d793-7ad6-4d39-a1e4-b42898fe04f1",
   "metadata": {},
   "outputs": [],
   "source": [
    "def test(l):\n",
    "    return max(l)"
   ]
  },
  {
   "cell_type": "code",
   "execution_count": 56,
   "id": "4222330a-2b29-4962-a8dc-52f727ea2c10",
   "metadata": {},
   "outputs": [
    {
     "data": {
      "text/plain": [
       "3"
      ]
     },
     "execution_count": 56,
     "metadata": {},
     "output_type": "execute_result"
    }
   ],
   "source": [
    "test(l)"
   ]
  },
  {
   "cell_type": "markdown",
   "id": "750bcb25-4ae6-4c56-9f0b-790a09eb2182",
   "metadata": {},
   "source": [
    "write a function to reverse the string "
   ]
  },
  {
   "cell_type": "code",
   "execution_count": 57,
   "id": "6d6523d2-d662-4cf9-bb9b-2dcaeaf26de2",
   "metadata": {},
   "outputs": [],
   "source": [
    "s = 'aimnxt'\n",
    "    "
   ]
  },
  {
   "cell_type": "code",
   "execution_count": 59,
   "id": "76fc6697-8b6a-4d98-b16b-a0bf0878dd96",
   "metadata": {},
   "outputs": [],
   "source": [
    "def test(s) :\n",
    "    s[::-1]"
   ]
  },
  {
   "cell_type": "code",
   "execution_count": 60,
   "id": "1f6cb459-a344-4603-a5f1-3d12294f7675",
   "metadata": {},
   "outputs": [],
   "source": [
    "test(s)"
   ]
  },
  {
   "cell_type": "markdown",
   "id": "bad51a0a-ec6d-4061-a118-38df4d6604af",
   "metadata": {},
   "source": [
    "write a function that accepts a number n and returns the fabonacci series up to n terms"
   ]
  },
  {
   "cell_type": "code",
   "execution_count": 64,
   "id": "86e4dc65-dfee-4e64-98da-3273958e8b41",
   "metadata": {},
   "outputs": [],
   "source": [
    "def fibonacci(n):\n",
    "    a, b = 0, 1\n",
    "    for i in range(n):\n",
    "        print(a, end=\" \")\n",
    "        a, b = b, a + b\n"
   ]
  },
  {
   "cell_type": "code",
   "execution_count": 65,
   "id": "655e9acf-9d4e-4df0-ad8d-557949a2e45b",
   "metadata": {},
   "outputs": [
    {
     "name": "stdout",
     "output_type": "stream",
     "text": [
      "0 1 1 2 3 5 8 13 21 34 "
     ]
    }
   ],
   "source": [
    "fibonacci(10)"
   ]
  },
  {
   "cell_type": "markdown",
   "id": "4275f7dd-a132-478a-abef-50cb6ff756e0",
   "metadata": {},
   "source": [
    "write a function to print the vowels in a string"
   ]
  },
  {
   "cell_type": "code",
   "execution_count": 4,
   "id": "559693d3-825c-4549-b9cd-65654979d238",
   "metadata": {},
   "outputs": [],
   "source": [
    "s = 'aimnxtdatasciece'\n"
   ]
  },
  {
   "cell_type": "code",
   "execution_count": 6,
   "id": "3bc9dd9c-39e6-4f35-a149-b6c532bdb605",
   "metadata": {},
   "outputs": [],
   "source": [
    "def vowels(s):\n",
    "    vowels = \"aeiouAEIOU\"\n",
    "    return [char for char in s if char in vowels]\n",
    "\n",
    "\n",
    "\n"
   ]
  },
  {
   "cell_type": "code",
   "execution_count": 7,
   "id": "93ae87dd-fc78-450f-aa10-00e310414ee5",
   "metadata": {},
   "outputs": [
    {
     "data": {
      "text/plain": [
       "['a', 'i', 'a', 'a', 'i', 'e', 'e']"
      ]
     },
     "execution_count": 7,
     "metadata": {},
     "output_type": "execute_result"
    }
   ],
   "source": [
    "vowels(s)"
   ]
  },
  {
   "cell_type": "code",
   "execution_count": null,
   "id": "7f6a97b9-a6a0-4768-8549-0df51efef386",
   "metadata": {},
   "outputs": [],
   "source": []
  }
 ],
 "metadata": {
  "kernelspec": {
   "display_name": "Python 3 (ipykernel)",
   "language": "python",
   "name": "python3"
  },
  "language_info": {
   "codemirror_mode": {
    "name": "ipython",
    "version": 3
   },
   "file_extension": ".py",
   "mimetype": "text/x-python",
   "name": "python",
   "nbconvert_exporter": "python",
   "pygments_lexer": "ipython3",
   "version": "3.13.5"
  }
 },
 "nbformat": 4,
 "nbformat_minor": 5
}
